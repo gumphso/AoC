{
 "cells": [
  {
   "cell_type": "code",
   "execution_count": 1,
   "id": "41d93304",
   "metadata": {},
   "outputs": [
    {
     "name": "stdout",
     "output_type": "stream",
     "text": [
      "1749524700\n"
     ]
    }
   ],
   "source": [
    "path_to_file = r\"C:\\Users\\gabel\\Downloads\\input2.txt\"\n",
    "with open(path_to_file, 'r') as file:\n",
    "    directions = file.readlines();\n",
    "\n",
    "#MOCK switch statement\n",
    "def string_to_action(arg):\n",
    "    switcher = {\n",
    "        \"forward\" : 0,\n",
    "        \"up\" : 1,\n",
    "        \"down\" : 2\n",
    "    }\n",
    "    return switcher.get(arg, -1)\n",
    "    \n",
    "\n",
    "#Part 1 & 2\n",
    "distance = 0\n",
    "depth = 0\n",
    "aim = 0\n",
    "for value in directions:\n",
    "    x = value.split()\n",
    "    var = string_to_action(x[0])\n",
    "    val = int(x[1])\n",
    "    \n",
    "    if var == 0:\n",
    "        distance += val\n",
    "        depth += aim*val\n",
    "    if var == 1:\n",
    "        #depth -= val\n",
    "        aim -= val\n",
    "    if var == 2:\n",
    "        #depth += val\n",
    "        aim += val\n",
    "        \n",
    "\n",
    "print(distance*depth)"
   ]
  },
  {
   "cell_type": "code",
   "execution_count": null,
   "id": "d7d63447",
   "metadata": {},
   "outputs": [],
   "source": []
  }
 ],
 "metadata": {
  "kernelspec": {
   "display_name": "Python 3 (ipykernel)",
   "language": "python",
   "name": "python3"
  },
  "language_info": {
   "codemirror_mode": {
    "name": "ipython",
    "version": 3
   },
   "file_extension": ".py",
   "mimetype": "text/x-python",
   "name": "python",
   "nbconvert_exporter": "python",
   "pygments_lexer": "ipython3",
   "version": "3.9.6"
  }
 },
 "nbformat": 4,
 "nbformat_minor": 5
}
