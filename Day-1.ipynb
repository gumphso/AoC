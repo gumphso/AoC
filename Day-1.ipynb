{
 "cells": [
  {
   "cell_type": "code",
   "execution_count": 49,
   "id": "dc869d0f",
   "metadata": {},
   "outputs": [
    {
     "name": "stdout",
     "output_type": "stream",
     "text": [
      "1521\n",
      "1543\n"
     ]
    }
   ],
   "source": [
    "path_to_file = r\"C:\\Users\\gabel\\Downloads\\input.txt\"\n",
    "with open(path_to_file, 'r') as file:\n",
    "    depth = file.readlines();\n",
    "\n",
    "#part 1\n",
    "inc = 0 \n",
    "currentdepth = -1\n",
    "for value in depth:\n",
    "    newdepth = int(value.strip())\n",
    "    if currentdepth == -1:\n",
    "        currentdepth = newdepth\n",
    "    if newdepth > currentdepth:\n",
    "        inc += 1;\n",
    "    currentdepth = newdepth;\n",
    "print(inc)  \n",
    "    \n",
    "#part 2\n",
    "prev = -1 \n",
    "inc = 0\n",
    "for i in range(len(depth)):\n",
    "    if i+2 == len(depth):\n",
    "        break\n",
    "    var = int(depth[i])+int(depth[i+1])+int(depth[i+2])\n",
    "    if prev == -1:\n",
    "        prev = var\n",
    "    if var > prev:\n",
    "        inc += 1\n",
    "    prev = var\n",
    " \n",
    "\n",
    "\n",
    "print(inc)"
   ]
  },
  {
   "cell_type": "code",
   "execution_count": null,
   "id": "44556f10",
   "metadata": {},
   "outputs": [],
   "source": []
  }
 ],
 "metadata": {
  "kernelspec": {
   "display_name": "Python 3 (ipykernel)",
   "language": "python",
   "name": "python3"
  },
  "language_info": {
   "codemirror_mode": {
    "name": "ipython",
    "version": 3
   },
   "file_extension": ".py",
   "mimetype": "text/x-python",
   "name": "python",
   "nbconvert_exporter": "python",
   "pygments_lexer": "ipython3",
   "version": "3.9.6"
  }
 },
 "nbformat": 4,
 "nbformat_minor": 5
}
