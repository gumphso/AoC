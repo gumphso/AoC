{
 "cells": [
  {
   "cell_type": "code",
   "execution_count": 19,
   "id": "cc50538a",
   "metadata": {},
   "outputs": [
    {
     "name": "stdout",
     "output_type": "stream",
     "text": [
      "[0, 1, 1, 1, 0, 0, 1, 0, 1, 1, 0, 0]\n",
      "1836\n",
      "2259\n"
     ]
    }
   ],
   "source": [
    "def to_decimal(binary):\n",
    "    num = 0\n",
    "    rev = list(reversed(binary))\n",
    "    for x in range(len(binary)):\n",
    "        if (x == 0):\n",
    "            num += int(rev[x])*1\n",
    "        else:\n",
    "            num += int(rev[x])*(2**x)\n",
    "    return num\n",
    "\n",
    "def ones_complement(binary):\n",
    "    for x in range(len(binary)):\n",
    "        if (binary[x] == 1):\n",
    "            binary[x] = 0\n",
    "        else:\n",
    "            binary[x] = 1\n",
    "    return binary\n",
    "        \n",
    "\n",
    "path_to_file = r\"C:\\Users\\gabel\\Downloads\\input3.txt\"\n",
    "with open(path_to_file, 'r') as file:\n",
    "    bits = file.readlines();\n",
    "    \n",
    "    a = [0]*(len(bits[1])-1)\n",
    "    for x in bits:\n",
    "        x.strip()\n",
    "        for y in range(len(x)-1):\n",
    "            a[y]+=int(x[y])\n",
    "    for value in range(len(a)):\n",
    "        if (a[value] >= (len(bits)/2)):\n",
    "            a[value] = 1\n",
    "        else:\n",
    "            a[value] = 0\n",
    "    print(a)\n",
    "    \n",
    "    print(to_decimal(a))\n",
    "    \n",
    "    print(to_decimal(ones_complement(a)))"
   ]
  },
  {
   "cell_type": "code",
   "execution_count": 20,
   "id": "51dc8457",
   "metadata": {},
   "outputs": [
    {
     "name": "stdout",
     "output_type": "stream",
     "text": [
      "['010110010011\\n']\n",
      "1427\n",
      "['100111000110\\n']\n",
      "2502\n"
     ]
    }
   ],
   "source": [
    "def find_most_common_bit(listed, x):\n",
    "    array = [];\n",
    "    val = 0\n",
    "    if (len(listed) > 1):\n",
    "        for num in range(len(listed)):\n",
    "            val += int(listed[num][x])\n",
    "        if val >= (len(listed)/2):\n",
    "            for y in range(len(listed)):\n",
    "                if (int(listed[y][x]) == 1):\n",
    "                    array.append(listed[y])\n",
    "            return array\n",
    "        else:\n",
    "            for y in range(len(listed)):\n",
    "                if (int(listed[y][x]) == 0):\n",
    "                    array.append(listed[y])\n",
    "            return array\n",
    "    else:\n",
    "        return listed\n",
    "    \n",
    "def find_least_common_bit(listed, x):\n",
    "    array = [];\n",
    "    val = 0\n",
    "    if (len(listed) > 1):\n",
    "        for num in range(len(listed)):\n",
    "            val += int(listed[num][x])\n",
    "        if val >= (len(listed)/2):\n",
    "            for y in range(len(listed)):\n",
    "                if (int(listed[y][x]) == 0):\n",
    "                    array.append(listed[y])\n",
    "            return array\n",
    "        else:\n",
    "            for y in range(len(listed)):\n",
    "                if (int(listed[y][x]) == 1):\n",
    "                    array.append(listed[y])\n",
    "            return array\n",
    "    else:\n",
    "        return listed\n",
    "\n",
    "temp = [\n",
    "    '110010101',\n",
    "    '101110111',\n",
    "    '100110111'\n",
    "] \n",
    "\n",
    "hold = bits\n",
    "i = 0\n",
    "while (len(hold) > 1):\n",
    "    hold = find_most_common_bit(hold, i)\n",
    "    i += 1\n",
    "\n",
    "print(hold)\n",
    "print(to_decimal(hold[0].strip()))\n",
    "#print(to_decimal(hold))\n",
    "\n",
    "\n",
    "hold = bits\n",
    "i = 0\n",
    "while (len(hold) > 1):\n",
    "    hold = find_least_common_bit(hold, i)\n",
    "    i += 1\n",
    "\n",
    "print(hold)\n",
    "print(to_decimal(hold[0].strip()))\n",
    "    \n",
    "#print(find_common_bit(bits, 0))"
   ]
  },
  {
   "cell_type": "code",
   "execution_count": null,
   "id": "31570980",
   "metadata": {},
   "outputs": [],
   "source": []
  },
  {
   "cell_type": "code",
   "execution_count": null,
   "id": "e74e6477",
   "metadata": {},
   "outputs": [],
   "source": []
  }
 ],
 "metadata": {
  "kernelspec": {
   "display_name": "Python 3 (ipykernel)",
   "language": "python",
   "name": "python3"
  },
  "language_info": {
   "codemirror_mode": {
    "name": "ipython",
    "version": 3
   },
   "file_extension": ".py",
   "mimetype": "text/x-python",
   "name": "python",
   "nbconvert_exporter": "python",
   "pygments_lexer": "ipython3",
   "version": "3.9.6"
  }
 },
 "nbformat": 4,
 "nbformat_minor": 5
}
